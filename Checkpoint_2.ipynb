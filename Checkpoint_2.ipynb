'''Task_1'''

#Write a Python program that accepts the user's first and last name, and
# prints them in reverse order with a space between them.


first_name = (input(" Donner votre nom"))
last_name =  (input(" Doner votr prenom"))
print(last_name,first_name)

'''Task_2'''

#Write a Python program that accepts an integer (n) and computes the value of n+nn+nnn.

#The sample value of n is 5.

#Expected Result: 615 (5+55+555)

n = str(input("donner n "))
nn = str( n ) + str( n )
nnn = str ( n ) + str( n ) + str( n)
print (int(n)+int(nn)+int(nnn))

'''Task_3'''

#Write a Python program to find whether a given number (accept from the user) is
#even or odd, and print out an appropriate message to the user.

Nombre = int(input("donner un nombre"))
if Nombre % 2 == 0:
    print("le nombre est pair")
else :
    print("le nombre est impair")

'''Task_4'''

#Write a program which will find all such numbers which are divisible by 7 but are not a multiple of 5,
# between 2000 and 3200 (both included). The numbers obtained should be printed in a sequence on a single
# line.
# Hints: Consider use range(#begin, #end) method

for i in range(2000,3200,1):
    if (i % 7 == 0 ) and (i % 5 != 0 ):
        print(i , end =';')

'''Task_5'''

# Write a program that can compute the factorial of a given number. The results should be printed in a
# sequence on a single line. Suppose the following input is supplied to the program: 8. Then, the output
# should be: 40320

fact = int(input("donner un nombre"))
if fact != 0:
    for i in range(1,fact,1):
        fact =  fact * i
    print (fact)
else :
     print("1")

'''Task_6'''

#Write a program to remove the characters which have odd index values of a given string.

#For example: string ="hello team"

#The result should be: hlota


string = str(input("donner un chaine de charactere"))
for i in range( 0 , len(string) , 1):
    if i % 2 == 0 :
        print(string[i], end='')

'''Task_7'''

#In this challenge, you must discount a price according to its value.

#- If the price is 500 or above, there will be a 50% discount.

#- If the price is between 200 and 500 (200 inclusive), there will be a 30% discount.

#- If the price is less than 200, there will be a 10% discount.


price = int (input("donner le prix"))
if price >= 500:
    price = price/2
    print ("le prix est devenu", price)
elif price >= 200 and price < 500:
    price = price * (1- (30/100))
    print ("le prix est devenu", price)
elif price < 200:
    price = price * (1 - (10 / 100))
    print("le prix est devenu", price)